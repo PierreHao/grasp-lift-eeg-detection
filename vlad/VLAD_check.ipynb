{
 "cells": [
  {
   "cell_type": "code",
   "execution_count": 1,
   "metadata": {
    "collapsed": true
   },
   "outputs": [],
   "source": [
    "from sklearn.cluster import MiniBatchKMeans\n",
    "from sklearn.preprocessing import StandardScaler\n",
    "from sklearn.datasets.samples_generator import make_blobs\n",
    "import matplotlib.pyplot as plt\n",
    "import numpy as np\n",
    "%matplotlib inline"
   ]
  },
  {
   "cell_type": "code",
   "execution_count": 2,
   "metadata": {
    "collapsed": true
   },
   "outputs": [],
   "source": [
    "import numpy as np\n",
    "import numpy.linalg as LA\n",
    "from sklearn.cluster import KMeans\n",
    "from sklearn.externals import six\n",
    "from sklearn.metrics.pairwise import pairwise_distances\n",
    "\n",
    "class Vlad:\n",
    "    def __init__(self, num_clusters = 8):\n",
    "        self.num_clusters = num_clusters\n",
    "        return\n",
    "\n",
    "    def my_vlad(self, local_descriptors, centroids):\n",
    "        #print(centroids.shape, local_descriptors.shape)\n",
    "        V = np.zeros([centroids.shape[0],local_descriptors.shape[1]])\n",
    "        #print(V.shape, centroids.shape, local_descriptors.shape)\n",
    "        distances = pairwise_distances(local_descriptors, centroids, metric='euclidean')\n",
    "        clusters = np.argmin(distances,axis=1)\n",
    "        for iter, center in enumerate(centroids):\n",
    "            points_belonging_to_cluster = local_descriptors[clusters == iter]\n",
    "            V[iter] = np.sum(points_belonging_to_cluster - center, axis=0)\n",
    "        print V\n",
    "        V = V.reshape(1, V.shape[0]*V.shape[1])\n",
    "        #print ('Vlad shape is ', V.shape)\n",
    "        return V/LA.norm(V)\n",
    "\n",
    "    def get_params(self, deep=True):\n",
    "        return dict(num_clusters = self.num_clusters)\n",
    "\n",
    "    def set_params(self, **params):\n",
    "        if not params:\n",
    "            return self\n",
    "        for key, value in six.iteritems(params):\n",
    "            split = key.split('__', 1)\n",
    "            if len(split) > 1:\n",
    "                print(\"length is greter than one \", split, value)\n",
    "            else:\n",
    "                print(\"length is one \", split, value)\n",
    "                setattr(self, key, value)\n",
    "\n",
    "    def fit(self, X, y=None):\n",
    "        print(\"in fit method\", X.shape, y.shape, self.num_clusters)\n",
    "        tmp = X.swapaxes(1,2)\n",
    "        tmp = tmp.reshape(tmp.shape[0]*tmp.shape[1], tmp.shape[2])\n",
    "        kmeans = KMeans(init='k-means++', n_clusters=self.num_clusters)\n",
    "        kmeans.fit(tmp)\n",
    "        self.centers = kmeans.cluster_centers_\n",
    "        print(\"shape of centers is \",self.centers.shape)\n",
    "        return self\n",
    "\n",
    "    def transform(self, X):\n",
    "        print(\"in transform method\", X.shape, self.num_clusters)\n",
    "        X = X.swapaxes(1,2)\n",
    "        tot_range = X.shape[0]\n",
    "        print(\"X.shape is \", X.shape)\n",
    "        out = np.empty((tot_range, self.centers.shape[0]*X.shape[2]))\n",
    "        for i in range(tot_range):\n",
    "            out[i] = self.my_vlad(X[i], self.centers)\n",
    "\n",
    "        out = np.insert(out, 0, 1, axis=1)\n",
    "        print(out.shape)\n",
    "        return out\n",
    "\n"
   ]
  },
  {
   "cell_type": "code",
   "execution_count": 3,
   "metadata": {
    "collapsed": false
   },
   "outputs": [
    {
     "data": {
      "text/plain": [
       "array([[ 0.1,  0.1],\n",
       "       [ 0.1,  0.2],\n",
       "       [ 0.1,  0.3],\n",
       "       [ 0.2,  0.1],\n",
       "       [ 0.2,  0.2],\n",
       "       [ 0.2,  0.3],\n",
       "       [ 0.6,  0.6],\n",
       "       [ 0.6,  0.7],\n",
       "       [ 0.6,  0.8],\n",
       "       [ 0.7,  0.6],\n",
       "       [ 0.7,  0.7],\n",
       "       [ 0.7,  0.8]])"
      ]
     },
     "execution_count": 3,
     "metadata": {},
     "output_type": "execute_result"
    }
   ],
   "source": [
    "cluster1 = np.array([[0.1,0.1],[0.1,0.2],[0.1,0.3],[0.2,0.1],[0.2,0.2],[0.2,0.3]])\n",
    "cluster2 = cluster1+[0.5,0.5]\n",
    "points = np.concatenate((cluster1, cluster2), axis=0)\n",
    "centroids = np.array([[0.25,0.25],[0.75,0.75]])\n",
    "points"
   ]
  },
  {
   "cell_type": "code",
   "execution_count": 4,
   "metadata": {
    "collapsed": false
   },
   "outputs": [
    {
     "name": "stdout",
     "output_type": "stream",
     "text": [
      "[[-0.6 -0.3]\n",
      " [-0.6 -0.3]]\n"
     ]
    },
    {
     "data": {
      "text/plain": [
       "array([[-0.63245553, -0.31622777, -0.63245553, -0.31622777]])"
      ]
     },
     "execution_count": 4,
     "metadata": {},
     "output_type": "execute_result"
    }
   ],
   "source": [
    "v=Vlad(2)\n",
    "v.my_vlad(points,centroids)\n"
   ]
  },
  {
   "cell_type": "code",
   "execution_count": 5,
   "metadata": {
    "collapsed": false
   },
   "outputs": [
    {
     "data": {
      "text/plain": [
       "-0.59999999999999987"
      ]
     },
     "execution_count": 5,
     "metadata": {},
     "output_type": "execute_result"
    }
   ],
   "source": [
    "np.sum(cluster1[:,0]-0.25, axis=0)"
   ]
  },
  {
   "cell_type": "code",
   "execution_count": 6,
   "metadata": {
    "collapsed": false
   },
   "outputs": [
    {
     "data": {
      "text/plain": [
       "-0.29999999999999999"
      ]
     },
     "execution_count": 6,
     "metadata": {},
     "output_type": "execute_result"
    }
   ],
   "source": [
    "np.sum(cluster1[:,1]-0.25)"
   ]
  },
  {
   "cell_type": "code",
   "execution_count": 7,
   "metadata": {
    "collapsed": false
   },
   "outputs": [
    {
     "data": {
      "text/plain": [
       "-0.6000000000000002"
      ]
     },
     "execution_count": 7,
     "metadata": {},
     "output_type": "execute_result"
    }
   ],
   "source": [
    "np.sum(cluster2[:,0]-0.75)"
   ]
  },
  {
   "cell_type": "code",
   "execution_count": 8,
   "metadata": {
    "collapsed": false
   },
   "outputs": [
    {
     "data": {
      "text/plain": [
       "-0.30000000000000004"
      ]
     },
     "execution_count": 8,
     "metadata": {},
     "output_type": "execute_result"
    }
   ],
   "source": [
    "np.sum(cluster2[:,1]-0.75)"
   ]
  },
  {
   "cell_type": "code",
   "execution_count": null,
   "metadata": {
    "collapsed": true
   },
   "outputs": [],
   "source": []
  }
 ],
 "metadata": {
  "kernelspec": {
   "display_name": "Python 2",
   "language": "python",
   "name": "python2"
  },
  "language_info": {
   "codemirror_mode": {
    "name": "ipython",
    "version": 2
   },
   "file_extension": ".py",
   "mimetype": "text/x-python",
   "name": "python",
   "nbconvert_exporter": "python",
   "pygments_lexer": "ipython2",
   "version": "2.7.10"
  }
 },
 "nbformat": 4,
 "nbformat_minor": 0
}
