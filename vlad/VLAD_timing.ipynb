{
 "cells": [
  {
   "cell_type": "code",
   "execution_count": 44,
   "metadata": {
    "collapsed": true
   },
   "outputs": [],
   "source": [
    "import numpy as np\n",
    "import numpy.linalg as LA\n",
    "from sklearn.cluster import MiniBatchKMeans\n",
    "from sklearn.externals import six\n",
    "from sklearn.metrics.pairwise import pairwise_distances\n",
    "from sklearn.preprocessing import StandardScaler\n",
    "import matplotlib.pyplot as plt\n",
    "from sklearn.datasets import make_blobs\n",
    "import timeit\n",
    "from memory_profiler import memory_usage\n",
    "\n",
    "class Vlad:\n",
    "    def __init__(self, num_clusters = 8):\n",
    "        self.num_clusters = num_clusters\n",
    "        return\n",
    "\n",
    "    def my_vlad(self, loc_desc, centroids, clusters):\n",
    "        #print(centroids.shape, local_descriptors.shape)\n",
    "        V = np.zeros([centroids.shape[0],loc_desc.shape[1]])\n",
    "        local_descriptors = self.scaler.transform(loc_desc)\n",
    "        #print(V.shape, centroids.shape, local_descriptors.shape)\n",
    "        #distances = pairwise_distances(local_descriptors, centroids, metric='euclidean')\n",
    "        #clusters = np.argmin(distances,axis=1)\n",
    "        for iter, center in enumerate(centroids):\n",
    "            points_belonging_to_cluster = local_descriptors[clusters == iter]\n",
    "            V[iter] = np.sum(points_belonging_to_cluster - center, axis=0)\n",
    "        V = V.reshape(1, V.shape[0]*V.shape[1])\n",
    "        #print ('Vlad shape is ', V.shape)\n",
    "        return V/LA.norm(V)\n",
    "\n",
    "    def get_params(self, deep=True):\n",
    "        return dict(num_clusters = self.num_clusters)\n",
    "\n",
    "    def set_params(self, **params):\n",
    "        if not params:\n",
    "            return self\n",
    "        for key, value in six.iteritems(params):\n",
    "            split = key.split('__', 1)\n",
    "            if len(split) > 1:\n",
    "                print(\"length is greter than one \", split, value)\n",
    "            else:\n",
    "                print(\"length is one \", split, value)\n",
    "                setattr(self, key, value)\n",
    "\n",
    "    def fit(self, X, y=None):\n",
    "        #print(\"in fit method\", X.shape, y.shape, self.num_clusters)\n",
    "        print \"in fit method: X-\"\n",
    "        tmp = X.swapaxes(1,2)\n",
    "        print tmp\n",
    "        tmp = tmp.reshape(tmp.shape[0]*tmp.shape[1], tmp.shape[2])\n",
    "\n",
    "        self.scaler = StandardScaler()\n",
    "        self.scaler.fit(tmp)\n",
    "        tmp = self.scaler.transform(tmp)\n",
    "\n",
    "        kmeans = MiniBatchKMeans(init='k-means++', n_clusters=self.num_clusters, batch_size=1000)\n",
    "        kmeans.fit(tmp)\n",
    "\n",
    "        self.centers = kmeans.cluster_centers_\n",
    "        self.clusters = kmeans.labels_\n",
    "        print(\"shape of centers is \",self.centers.shape)\n",
    "        return self\n",
    "\n",
    "    def transform(self, X):\n",
    "        print(\"in transform method\", X.shape, self.num_clusters)\n",
    "        X = X.swapaxes(1,2)\n",
    "        tot_range = X.shape[0]\n",
    "        print(\"X.shape is \", X.shape)\n",
    "        out = np.empty((tot_range, self.centers.shape[0]*X.shape[2]))\n",
    "        print(\"starting for loop\")\n",
    "        start_ind = 0\n",
    "        for i in range(tot_range):\n",
    "            out[i] = self.my_vlad(X[i], self.centers, self.clusters[start_ind:start_ind + 500])\n",
    "            start_ind = start_ind + 500\n",
    "\n",
    "        out = np.insert(out, 0, 1, axis=1)\n",
    "        print(\"out.shape is \", out.shape)\n",
    "        return out"
   ]
  },
  {
   "cell_type": "code",
   "execution_count": 45,
   "metadata": {
    "collapsed": true
   },
   "outputs": [],
   "source": [
    "def profile_memory_and_time(function, *args, **kwargs):\n",
    "    start_time = timeit.default_timer()\n",
    "    memory, return_val = memory_usage((function, (args), kwargs), max_usage=True, retval=True)\n",
    "    elapsed = timeit.default_timer() - start_time\n",
    "    return memory[0], elapsed,return_val\n"
   ]
  },
  {
   "cell_type": "code",
   "execution_count": 46,
   "metadata": {
    "collapsed": false
   },
   "outputs": [
    {
     "name": "stdout",
     "output_type": "stream",
     "text": [
      "Running for 2048 samples of dimension 32\n",
      "[[ -0.04891706  -6.62566446  -6.32454664 ...,  -2.41444381   0.26897432\n",
      "    8.42518975]\n",
      " [  1.91794734   7.06581158  -1.54732982 ...,   0.88850454  -5.44064572\n",
      "   -6.93485815]\n",
      " [  0.02953702  -4.84713559  -0.84230305 ...,  -7.42158033  -9.04460737\n",
      "   -9.7263831 ]\n",
      " ..., \n",
      " [  1.6438743   -4.92613846  -5.80285997 ...,  -1.70196687   1.53627599\n",
      "    7.40410061]\n",
      " [  1.5616806   -4.8991518   -0.50734962 ..., -11.52878728 -10.93025235\n",
      "   -7.57199572]\n",
      " [  0.77515772  -4.49888614  -2.61949948 ...,  -9.18554461  -9.33794819\n",
      "  -10.26036523]]\n",
      "in fit method: X.shape (2048, 32)\n",
      "[[ -0.04891706   1.91794734   0.02953702 ...,   1.6438743    1.5616806\n",
      "    0.77515772]\n",
      " [ -6.62566446   7.06581158  -4.84713559 ...,  -4.92613846  -4.8991518\n",
      "   -4.49888614]\n",
      " [ -6.32454664  -1.54732982  -0.84230305 ...,  -5.80285997  -0.50734962\n",
      "   -2.61949948]\n",
      " ..., \n",
      " [ -2.41444381   0.88850454  -7.42158033 ...,  -1.70196687 -11.52878728\n",
      "   -9.18554461]\n",
      " [  0.26897432  -5.44064572  -9.04460737 ...,   1.53627599 -10.93025235\n",
      "   -9.33794819]\n",
      " [  8.42518975  -6.93485815  -9.7263831  ...,   7.40410061  -7.57199572\n",
      "  -10.26036523]]\n"
     ]
    },
    {
     "ename": "ValueError",
     "evalue": "Number of samples smaller than number of clusters.",
     "output_type": "error",
     "traceback": [
      "\u001b[0;31m---------------------------------------------------------------------------\u001b[0m",
      "\u001b[0;31mValueError\u001b[0m                                Traceback (most recent call last)",
      "\u001b[0;32m<ipython-input-46-a2624c23617a>\u001b[0m in \u001b[0;36m<module>\u001b[0;34m()\u001b[0m\n\u001b[1;32m     20\u001b[0m     \u001b[0mX_scaled\u001b[0m \u001b[0;34m=\u001b[0m \u001b[0mscaler\u001b[0m\u001b[0;34m.\u001b[0m\u001b[0mtransform\u001b[0m\u001b[0;34m(\u001b[0m\u001b[0mX\u001b[0m\u001b[0;34m)\u001b[0m\u001b[0;34m\u001b[0m\u001b[0m\n\u001b[1;32m     21\u001b[0m     \u001b[0;32mprint\u001b[0m \u001b[0mX\u001b[0m\u001b[0;34m\u001b[0m\u001b[0m\n\u001b[0;32m---> 22\u001b[0;31m     \u001b[0mmemory\u001b[0m\u001b[0;34m,\u001b[0m \u001b[0mtime\u001b[0m\u001b[0;34m,\u001b[0m \u001b[0mrval\u001b[0m \u001b[0;34m=\u001b[0m \u001b[0mprofile_memory_and_time\u001b[0m\u001b[0;34m(\u001b[0m\u001b[0mmyVlad\u001b[0m\u001b[0;34m.\u001b[0m\u001b[0mfit\u001b[0m\u001b[0;34m,\u001b[0m\u001b[0mX\u001b[0m\u001b[0;34m)\u001b[0m\u001b[0;34m\u001b[0m\u001b[0m\n\u001b[0m\u001b[1;32m     23\u001b[0m     \u001b[0mtimes\u001b[0m\u001b[0;34m.\u001b[0m\u001b[0mappend\u001b[0m\u001b[0;34m(\u001b[0m\u001b[0mtime\u001b[0m\u001b[0;34m)\u001b[0m\u001b[0;34m\u001b[0m\u001b[0m\n\u001b[1;32m     24\u001b[0m     \u001b[0mmemoris\u001b[0m\u001b[0;34m.\u001b[0m\u001b[0mappend\u001b[0m\u001b[0;34m(\u001b[0m\u001b[0mmemory\u001b[0m\u001b[0;34m)\u001b[0m\u001b[0;34m\u001b[0m\u001b[0m\n",
      "\u001b[0;32m<ipython-input-45-851d98ec3314>\u001b[0m in \u001b[0;36mprofile_memory_and_time\u001b[0;34m(function, *args, **kwargs)\u001b[0m\n\u001b[1;32m      1\u001b[0m \u001b[0;32mdef\u001b[0m \u001b[0mprofile_memory_and_time\u001b[0m\u001b[0;34m(\u001b[0m\u001b[0mfunction\u001b[0m\u001b[0;34m,\u001b[0m \u001b[0;34m*\u001b[0m\u001b[0margs\u001b[0m\u001b[0;34m,\u001b[0m \u001b[0;34m**\u001b[0m\u001b[0mkwargs\u001b[0m\u001b[0;34m)\u001b[0m\u001b[0;34m:\u001b[0m\u001b[0;34m\u001b[0m\u001b[0m\n\u001b[1;32m      2\u001b[0m     \u001b[0mstart_time\u001b[0m \u001b[0;34m=\u001b[0m \u001b[0mtimeit\u001b[0m\u001b[0;34m.\u001b[0m\u001b[0mdefault_timer\u001b[0m\u001b[0;34m(\u001b[0m\u001b[0;34m)\u001b[0m\u001b[0;34m\u001b[0m\u001b[0m\n\u001b[0;32m----> 3\u001b[0;31m     \u001b[0mmemory\u001b[0m\u001b[0;34m,\u001b[0m \u001b[0mreturn_val\u001b[0m \u001b[0;34m=\u001b[0m \u001b[0mmemory_usage\u001b[0m\u001b[0;34m(\u001b[0m\u001b[0;34m(\u001b[0m\u001b[0mfunction\u001b[0m\u001b[0;34m,\u001b[0m \u001b[0;34m(\u001b[0m\u001b[0margs\u001b[0m\u001b[0;34m)\u001b[0m\u001b[0;34m,\u001b[0m \u001b[0mkwargs\u001b[0m\u001b[0;34m)\u001b[0m\u001b[0;34m,\u001b[0m \u001b[0mmax_usage\u001b[0m\u001b[0;34m=\u001b[0m\u001b[0mTrue\u001b[0m\u001b[0;34m,\u001b[0m \u001b[0mretval\u001b[0m\u001b[0;34m=\u001b[0m\u001b[0mTrue\u001b[0m\u001b[0;34m)\u001b[0m\u001b[0;34m\u001b[0m\u001b[0m\n\u001b[0m\u001b[1;32m      4\u001b[0m     \u001b[0melapsed\u001b[0m \u001b[0;34m=\u001b[0m \u001b[0mtimeit\u001b[0m\u001b[0;34m.\u001b[0m\u001b[0mdefault_timer\u001b[0m\u001b[0;34m(\u001b[0m\u001b[0;34m)\u001b[0m \u001b[0;34m-\u001b[0m \u001b[0mstart_time\u001b[0m\u001b[0;34m\u001b[0m\u001b[0m\n\u001b[1;32m      5\u001b[0m     \u001b[0;32mreturn\u001b[0m \u001b[0mmemory\u001b[0m\u001b[0;34m[\u001b[0m\u001b[0;36m0\u001b[0m\u001b[0;34m]\u001b[0m\u001b[0;34m,\u001b[0m \u001b[0melapsed\u001b[0m\u001b[0;34m,\u001b[0m\u001b[0mreturn_val\u001b[0m\u001b[0;34m\u001b[0m\u001b[0m\n",
      "\u001b[0;32m/Users/micheleceru/anaconda/lib/python2.7/site-packages/memory_profiler.pyc\u001b[0m in \u001b[0;36mmemory_usage\u001b[0;34m(proc, interval, timeout, timestamps, include_children, max_usage, retval, stream)\u001b[0m\n\u001b[1;32m    242\u001b[0m             \u001b[0mp\u001b[0m\u001b[0;34m.\u001b[0m\u001b[0mstart\u001b[0m\u001b[0;34m(\u001b[0m\u001b[0;34m)\u001b[0m\u001b[0;34m\u001b[0m\u001b[0m\n\u001b[1;32m    243\u001b[0m             \u001b[0mparent_conn\u001b[0m\u001b[0;34m.\u001b[0m\u001b[0mrecv\u001b[0m\u001b[0;34m(\u001b[0m\u001b[0;34m)\u001b[0m  \u001b[0;31m# wait until we start getting memory\u001b[0m\u001b[0;34m\u001b[0m\u001b[0m\n\u001b[0;32m--> 244\u001b[0;31m             \u001b[0mreturned\u001b[0m \u001b[0;34m=\u001b[0m \u001b[0mf\u001b[0m\u001b[0;34m(\u001b[0m\u001b[0;34m*\u001b[0m\u001b[0margs\u001b[0m\u001b[0;34m,\u001b[0m \u001b[0;34m**\u001b[0m\u001b[0mkw\u001b[0m\u001b[0;34m)\u001b[0m\u001b[0;34m\u001b[0m\u001b[0m\n\u001b[0m\u001b[1;32m    245\u001b[0m             \u001b[0mparent_conn\u001b[0m\u001b[0;34m.\u001b[0m\u001b[0msend\u001b[0m\u001b[0;34m(\u001b[0m\u001b[0;36m0\u001b[0m\u001b[0;34m)\u001b[0m  \u001b[0;31m# finish timing\u001b[0m\u001b[0;34m\u001b[0m\u001b[0m\n\u001b[1;32m    246\u001b[0m             \u001b[0mret\u001b[0m \u001b[0;34m=\u001b[0m \u001b[0mparent_conn\u001b[0m\u001b[0;34m.\u001b[0m\u001b[0mrecv\u001b[0m\u001b[0;34m(\u001b[0m\u001b[0;34m)\u001b[0m\u001b[0;34m\u001b[0m\u001b[0m\n",
      "\u001b[0;32m<ipython-input-44-c454372b9244>\u001b[0m in \u001b[0;36mfit\u001b[0;34m(self, X, y)\u001b[0m\n\u001b[1;32m     55\u001b[0m \u001b[0;34m\u001b[0m\u001b[0m\n\u001b[1;32m     56\u001b[0m         \u001b[0mkmeans\u001b[0m \u001b[0;34m=\u001b[0m \u001b[0mMiniBatchKMeans\u001b[0m\u001b[0;34m(\u001b[0m\u001b[0minit\u001b[0m\u001b[0;34m=\u001b[0m\u001b[0;34m'k-means++'\u001b[0m\u001b[0;34m,\u001b[0m \u001b[0mn_clusters\u001b[0m\u001b[0;34m=\u001b[0m\u001b[0mself\u001b[0m\u001b[0;34m.\u001b[0m\u001b[0mnum_clusters\u001b[0m\u001b[0;34m,\u001b[0m \u001b[0mbatch_size\u001b[0m\u001b[0;34m=\u001b[0m\u001b[0;36m1000\u001b[0m\u001b[0;34m)\u001b[0m\u001b[0;34m\u001b[0m\u001b[0m\n\u001b[0;32m---> 57\u001b[0;31m         \u001b[0mkmeans\u001b[0m\u001b[0;34m.\u001b[0m\u001b[0mfit\u001b[0m\u001b[0;34m(\u001b[0m\u001b[0mtmp\u001b[0m\u001b[0;34m)\u001b[0m\u001b[0;34m\u001b[0m\u001b[0m\n\u001b[0m\u001b[1;32m     58\u001b[0m \u001b[0;34m\u001b[0m\u001b[0m\n\u001b[1;32m     59\u001b[0m         \u001b[0mself\u001b[0m\u001b[0;34m.\u001b[0m\u001b[0mcenters\u001b[0m \u001b[0;34m=\u001b[0m \u001b[0mkmeans\u001b[0m\u001b[0;34m.\u001b[0m\u001b[0mcluster_centers_\u001b[0m\u001b[0;34m\u001b[0m\u001b[0m\n",
      "\u001b[0;32m/Users/micheleceru/anaconda/lib/python2.7/site-packages/sklearn/cluster/k_means_.pyc\u001b[0m in \u001b[0;36mfit\u001b[0;34m(self, X, y)\u001b[0m\n\u001b[1;32m   1209\u001b[0m         \u001b[0mn_samples\u001b[0m\u001b[0;34m,\u001b[0m \u001b[0mn_features\u001b[0m \u001b[0;34m=\u001b[0m \u001b[0mX\u001b[0m\u001b[0;34m.\u001b[0m\u001b[0mshape\u001b[0m\u001b[0;34m\u001b[0m\u001b[0m\n\u001b[1;32m   1210\u001b[0m         \u001b[0;32mif\u001b[0m \u001b[0mn_samples\u001b[0m \u001b[0;34m<\u001b[0m \u001b[0mself\u001b[0m\u001b[0;34m.\u001b[0m\u001b[0mn_clusters\u001b[0m\u001b[0;34m:\u001b[0m\u001b[0;34m\u001b[0m\u001b[0m\n\u001b[0;32m-> 1211\u001b[0;31m             raise ValueError(\"Number of samples smaller than number \"\n\u001b[0m\u001b[1;32m   1212\u001b[0m                              \"of clusters.\")\n\u001b[1;32m   1213\u001b[0m \u001b[0;34m\u001b[0m\u001b[0m\n",
      "\u001b[0;31mValueError\u001b[0m: Number of samples smaller than number of clusters."
     ]
    }
   ],
   "source": [
    "#minibatch=MiniBatchKMeans(n_clusters=1024,max_iter=100,batch_size=3072)\n",
    "inputSizesToGenerate =[[2**11,2**2]] \n",
    "#[[2**8, 32],[2**10, 32],[2**12, 32],[2**14, 32],[2**16, 32],[2**18, 32],[2**20, 32],[2**22, 32],[2**24, 32]]\n",
    "#,[2**26, 32],[2**28, 32],[2**30, 32],[2**32, 32]]\n",
    "\n",
    "scaler = StandardScaler()\n",
    "plt.ion()\n",
    "times=[]\n",
    "memoris=[]\n",
    "numSamples=[]\n",
    "    #centroid_plot.savefig('plus_centroid_plot.png')\n",
    "    #centroid_plot.savefig('plus_centroid_plot.png')\n",
    "num_dimension=32\n",
    "\n",
    "for num_samples, num_cluster in inputSizesToGenerate:\n",
    "    myVlad = Vlad(num_cluster)\n",
    "    print \"Running for {0} samples of dimension {1}\".format(num_samples, num_dimension)\n",
    "    X,y = make_blobs(n_samples=num_samples, n_features=num_dimension, centers=num_cluster)\n",
    "    scaler.fit(X)\n",
    "    X_scaled = scaler.transform(X)\n",
    "    print X\n",
    "    memory, time, rval = profile_memory_and_time(myVlad.fit,X)\n",
    "    times.append(time)\n",
    "    memoris.append(memory)\n",
    "    numSamples.append(num_samples)\n",
    "plt.scatter(numSamples, memoris,color=\"red\",label=\"sklearn Kmeans\")\n",
    "plt.title(\"MEMORY\")\n",
    "plt.legend(bbox_to_anchor=(1.05, 1), loc=2, borderaxespad=0.)\n",
    "plt.show()\n",
    "plt.savefig('memory.png')\n",
    "plt.clf()\n",
    "plt.scatter(numSamples, times,color=\"red\",label=\"sklearn Kmeans\")\n",
    "plt.title(\"TIME\")\n",
    "plt.show()\n",
    "plt.savefig('time.png')\n",
    "print \"Script ended. Results:\"\n",
    "print \"numSamples: \",numSamples\n",
    "print \"vladMemory: \",memoris\n",
    "print \"vladTimes: \",times    "
   ]
  },
  {
   "cell_type": "code",
   "execution_count": null,
   "metadata": {
    "collapsed": true
   },
   "outputs": [],
   "source": []
  },
  {
   "cell_type": "code",
   "execution_count": null,
   "metadata": {
    "collapsed": true
   },
   "outputs": [],
   "source": []
  }
 ],
 "metadata": {
  "kernelspec": {
   "display_name": "Python 2",
   "language": "python",
   "name": "python2"
  },
  "language_info": {
   "codemirror_mode": {
    "name": "ipython",
    "version": 2
   },
   "file_extension": ".py",
   "mimetype": "text/x-python",
   "name": "python",
   "nbconvert_exporter": "python",
   "pygments_lexer": "ipython2",
   "version": "2.7.10"
  }
 },
 "nbformat": 4,
 "nbformat_minor": 0
}
