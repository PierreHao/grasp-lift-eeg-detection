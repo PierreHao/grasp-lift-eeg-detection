{
 "cells": [
  {
   "cell_type": "code",
   "execution_count": 1,
   "metadata": {
    "collapsed": true
   },
   "outputs": [],
   "source": [
    "%matplotlib nbagg\n",
    "\n",
    "import numpy as np\n",
    "import pandas as pd\n",
    "import sys\n",
    "from glob import glob\n",
    "from mne import find_events, Epochs, create_info, concatenate_raws, pick_types, compute_raw_covariance\n",
    "from mne.channels import read_montage\n",
    "from mne.io import RawArray\n",
    "from mne.preprocessing import Xdawn\n",
    "\n",
    "\n",
    "WINDOW = 500\n",
    "NFILTERS = 3\n",
    "\n",
    "def getChannelNames():\n",
    "    \"\"\"Return Channels names.\"\"\"\n",
    "    return ['Fp1', 'Fp2', 'F7', 'F3', 'Fz', 'F4', 'F8', 'FC5',\n",
    "            'FC1', 'FC2', 'FC6', 'T7', 'C3', 'Cz', 'C4', 'T8',\n",
    "            'TP9', 'CP5', 'CP1', 'CP2', 'CP6', 'TP10', 'P7',\n",
    "            'P3', 'Pz', 'P4', 'P8', 'PO9', 'O1', 'Oz', 'O2', 'PO10']\n",
    "\n",
    "def getEventNames():\n",
    "    \"\"\"Return Event name.\"\"\"\n",
    "    return ['HandStart', 'FirstDigitTouch', 'BothStartLoadPhase', 'LiftOff',\n",
    "            'Replace', 'BothReleased']\n",
    "\n",
    "\n",
    "def get_epochs_and_cov(raw_data, picks, window=500):\n",
    "    events = list()\n",
    "    events_id = dict()\n",
    "\n",
    "    for j, eid in enumerate(getEventNames()):\n",
    "        tmp = find_events(raw_data, stim_channel=eid, verbose=False)\n",
    "        tmp[:, -1] = j + 1\n",
    "        events.append(tmp)\n",
    "        events_id[eid] = j + 1\n",
    "\n",
    "    events = np.concatenate(events, axis=0)\n",
    "    order_ev = np.argsort(events[:, 0])\n",
    "    events = events[order_ev]\n",
    "\n",
    "    epochs = Epochs(raw_data, events, events_id,\n",
    "            tmin=-(window / 500.0) + 1 / 500.0 + 0.150,\n",
    "            tmax=0.150, proj=False, picks=picks, baseline=None,\n",
    "            preload=True, add_eeg_ref=False, verbose=False)\n",
    "\n",
    "    cov_signal = compute_raw_covariance(raw_data, verbose=False)\n",
    "    return epochs, cov_signal\n",
    "\n",
    "def creat_mne_raw_object(fname, read_events = True):\n",
    "\n",
    "    print (\"loading data from %s\" %fname)\n",
    "    data = pd.read_csv(fname)\n",
    "\n",
    "    ch_names = list(data.columns[1:])\n",
    "\n",
    "    montage = read_montage('standard_1005', ch_names)\n",
    "    ch_type = ['eeg']*len(ch_names)\n",
    "    data = 1e-6*np.array(data[ch_names]).T\n",
    "\n",
    "    if read_events:\n",
    "        ev_fname = fname.replace('_data', '_events')\n",
    "        print (ev_fname)\n",
    "        events = pd.read_csv(ev_fname)\n",
    "        events_names = events.columns[1:]\n",
    "        events_data = np.array(events[events_names]).T\n",
    "\n",
    "        ch_type.extend(['stim']*6)\n",
    "        ch_names.extend(events_names)\n",
    "        data = np.concatenate((data, events_data))\n",
    "\n",
    "    info = create_info(ch_names, sfreq=500.0, ch_types=ch_type, montage=montage)\n",
    "    info['filename'] = fname\n",
    "    raw = RawArray(data, info, verbose=True)\n",
    "\n",
    "    return raw"
   ]
  },
  {
   "cell_type": "code",
   "execution_count": 2,
   "metadata": {
    "collapsed": false
   },
   "outputs": [
    {
     "name": "stdout",
     "output_type": "stream",
     "text": [
      "Loading data for subject 1... \n",
      "loading data from data/train/subj1_series1_data.csv\n",
      "data/train/subj1_series1_events.csv\n",
      "Creating RawArray with float64 data, n_channels=38, n_times=119496\n",
      "    Range : 0 ... 119495 =      0.000 ...   238.990 secs\n",
      "Ready.\n",
      "loading data from data/train/subj1_series2_data.csv\n",
      "data/train/subj1_series2_events.csv\n",
      "Creating RawArray with float64 data, n_channels=38, n_times=271954\n",
      "    Range : 0 ... 271953 =      0.000 ...   543.906 secs\n",
      "Ready.\n",
      "loading data from data/train/subj1_series3_data.csv\n",
      "data/train/subj1_series3_events.csv\n",
      "Creating RawArray with float64 data, n_channels=38, n_times=217614\n",
      "    Range : 0 ... 217613 =      0.000 ...   435.226 secs\n",
      "Ready.\n",
      "loading data from data/train/subj1_series4_data.csv\n",
      "data/train/subj1_series4_events.csv\n",
      "Creating RawArray with float64 data, n_channels=38, n_times=116240\n",
      "    Range : 0 ... 116239 =      0.000 ...   232.478 secs\n",
      "Ready.\n",
      "loading data from data/train/subj1_series5_data.csv\n",
      "data/train/subj1_series5_events.csv\n",
      "Creating RawArray with float64 data, n_channels=38, n_times=210644\n",
      "    Range : 0 ... 210643 =      0.000 ...   421.286 secs\n",
      "Ready.\n",
      "loading data from data/train/subj1_series6_data.csv\n",
      "data/train/subj1_series6_events.csv\n",
      "Creating RawArray with float64 data, n_channels=38, n_times=249550\n",
      "    Range : 0 ... 249549 =      0.000 ...   499.098 secs\n",
      "Ready.\n",
      "loading data from data/train/subj1_series7_data.csv\n",
      "data/train/subj1_series7_events.csv\n",
      "Creating RawArray with float64 data, n_channels=38, n_times=119561\n",
      "    Range : 0 ... 119560 =      0.000 ...   239.120 secs\n",
      "Ready.\n",
      "loading data from data/train/subj1_series8_data.csv\n",
      "data/train/subj1_series8_events.csv\n",
      "Creating RawArray with float64 data, n_channels=38, n_times=117333\n",
      "    Range : 0 ... 117332 =      0.000 ...   234.664 secs\n",
      "Ready.\n"
     ]
    }
   ],
   "source": [
    "subjects = range(1,2)\n",
    "subject = 1\n",
    "\n",
    "print (\"Loading data for subject %d... \" % subject)\n",
    "\n",
    "fnames = glob('data/train/subj%d_series*_data.csv' % (subject))\n",
    "fnames.sort()\n",
    "#print fnames\n",
    "\n",
    "fnames_train = fnames[:-2]\n",
    "fnames_validation = fnames[-2:]\n",
    "\n",
    "fnames_test = glob('data/test/subj%d_series*_data.csv' % (subject))\n",
    "fnames_test.sort()\n",
    "\n",
    "    #print fnames_validation\n",
    "\n",
    "raw_train = concatenate_raws([creat_mne_raw_object(fname, read_events=True) for fname in fnames_train])\n",
    "raw_val = concatenate_raws([creat_mne_raw_object(fname, read_events=True) for fname in fnames_validation])\n",
    "    #raw_test = concatenate_raws([creat_mne_raw_object(fname, read_events=False) for fname in fnames_test])\n",
    "\n",
    "picks_train = pick_types(raw_train.info, eeg=True)\n",
    "picks_val = pick_types(raw_val.info, eeg=True)\n",
    "    #picks_test = pick_types(raw_test.info, eeg=True)\n",
    "\n",
    "data_train = raw_train._data[picks_train].T\n",
    "labels_train = raw_train._data[32:].T\n",
    "\n",
    "data_val = raw_val._data[picks_val].T\n",
    "labels_val = raw_val._data[32:].T\n",
    "\n",
    "#data_test = raw_test._data[picks_test].T\n",
    "#labels_test = None\n",
    "train_epochs, train_cov_signal = get_epochs_and_cov(raw_train, picks_train, WINDOW)"
   ]
  },
  {
   "cell_type": "code",
   "execution_count": 7,
   "metadata": {
    "collapsed": false
   },
   "outputs": [
    {
     "name": "stdout",
     "output_type": "stream",
     "text": [
      "(1152, 32, 500)\n",
      "(1152, 24, 500)\n"
     ]
    }
   ],
   "source": [
    "print(train_epochs._data.shape)\n",
    "\n",
    "xd = Xdawn(n_components=4, signal_cov=train_cov_signal, correct_overlap=False)\n",
    "fit = xd.fit(train_epochs)\n",
    "trans = xd.transform(train_epochs)\n",
    "print(trans.shape)"
   ]
  },
  {
   "cell_type": "code",
   "execution_count": 19,
   "metadata": {
    "collapsed": false
   },
   "outputs": [
    {
     "name": "stdout",
     "output_type": "stream",
     "text": [
      "(1152, 18, 500)\n"
     ]
    }
   ],
   "source": []
  },
  {
   "cell_type": "code",
   "execution_count": 3,
   "metadata": {
    "collapsed": false
   },
   "outputs": [
    {
     "name": "stdout",
     "output_type": "stream",
     "text": [
      "['data/train/subj1_series1_data.csv', 'data/train/subj1_series2_data.csv', 'data/train/subj1_series3_data.csv', 'data/train/subj1_series4_data.csv', 'data/train/subj1_series5_data.csv', 'data/train/subj1_series6_data.csv', 'data/train/subj1_series7_data.csv', 'data/train/subj1_series8_data.csv']\n"
     ]
    }
   ],
   "source": [
    "xd = Xdawn(n_components=NFILTERS, signal_cov=train_cov_signal, correct_overlap=False)\n",
    "xd.fit(train_epochs)\n",
    "\n",
    "\n",
    "val_epochs, val_cov_signal = get_epochs_and_cov(raw_val, picks_val, WINDOW)\n",
    "xd = Xdawn(n_components=NFILTERS, signal_cov=val_cov_signal, correct_overlap=False)\n",
    "xd.fit(val_epochs)\n",
    "\n",
    "P = []\n",
    "for eid in getEventNames():\n",
    "    P.append(np.dot(xd.filters_[eid][:, 0:NFILTERS].T, xd.evokeds_[eid].data))\n",
    "\n",
    "print (\"Saving data for subject{0} in files\".format(subject))\n",
    "np.save('data/processed/subj{0}_train_data.npy'.format(subject), train_epochs._data)\n",
    "np.save('data/processed/subj{0}_train_labels.npy'.format(subject), train_epochs.events)\n",
    "\n",
    "np.save('data/processed/subj{0}_val_data.npy'.format(subject), val_epochs._data)\n",
    "np.save('data/processed/subj{0}_val_labels.npy'.format(subject), val_epochs.events)"
   ]
  },
  {
   "cell_type": "code",
   "execution_count": 4,
   "metadata": {
    "collapsed": false
   },
   "outputs": [
    {
     "data": {
      "text/plain": [
       "<mne.preprocessing.xdawn.Xdawn at 0x7f02a3cbc080>"
      ]
     },
     "execution_count": 4,
     "metadata": {},
     "output_type": "execute_result"
    }
   ],
   "source": [
    "xd"
   ]
  },
  {
   "cell_type": "code",
   "execution_count": null,
   "metadata": {
    "collapsed": true
   },
   "outputs": [],
   "source": []
  }
 ],
 "metadata": {
  "kernelspec": {
   "display_name": "Python 3",
   "language": "python",
   "name": "python3"
  },
  "language_info": {
   "codemirror_mode": {
    "name": "ipython",
    "version": 3
   },
   "file_extension": ".py",
   "mimetype": "text/x-python",
   "name": "python",
   "nbconvert_exporter": "python",
   "pygments_lexer": "ipython3",
   "version": "3.4.3"
  }
 },
 "nbformat": 4,
 "nbformat_minor": 0
}
