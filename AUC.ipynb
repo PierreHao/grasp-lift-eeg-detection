{
 "cells": [
  {
   "cell_type": "code",
   "execution_count": 1,
   "metadata": {
    "collapsed": false
   },
   "outputs": [
    {
     "name": "stdout",
     "output_type": "stream",
     "text": [
      "('Start time is ', datetime.datetime(2015, 12, 22, 12, 15, 28, 633240))\n",
      "((1152, 32, 500), (1152,))\n",
      "((408, 32, 500), (408,))\n",
      "('length is one ', ['num_clusters'], 256)\n",
      "('shape of centers is ', (256, 32))\n",
      "('in transform method', (1152, 32, 500), 256)\n",
      "('X.shape is ', (1152, 500, 32))\n",
      "starting for loop\n",
      "1152\n",
      "('in transform method', (408, 32, 500), 256)\n",
      "('X.shape is ', (408, 500, 32))\n",
      "starting for loop\n",
      "408\n",
      "('in transform method', (408, 32, 500), 256)\n",
      "('X.shape is ', (408, 500, 32))\n",
      "starting for loop\n",
      "408\n",
      "0.526960784314\n",
      "('in transform method', (408, 32, 500), 256)\n",
      "('X.shape is ', (408, 500, 32))\n",
      "starting for loop\n",
      "408\n",
      "('for label', 0, 'auc=', 0.6605536332179931)\n",
      "('for label', 1, 'auc=', 0.64496107266435987)\n",
      "('for label', 2, 'auc=', 0.6106185121107266)\n",
      "('for label', 3, 'auc=', 0.48416955017301039)\n",
      "('for label', 4, 'auc=', 0.7501730103806229)\n",
      "('for label', 5, 'auc=', 0.81280276816608987)\n",
      "totalAUC 0.660546424452\n"
     ]
    }
   ],
   "source": [
    "#%matplotlib inline\n",
    "import datetime\n",
    "import numpy as np\n",
    "import numpy.linalg as LA\n",
    "import matplotlib.pyplot as plt\n",
    "from sklearn.pipeline import Pipeline\n",
    "from sklearn import svm\n",
    "from sklearn.grid_search import GridSearchCV\n",
    "from sklearn.externals import six\n",
    "from sklearn.metrics.pairwise import pairwise_distances\n",
    "from sklearn.preprocessing import label_binarize\n",
    "from sklearn.metrics import roc_auc_score\n",
    "from sklearn.decomposition import PCA\n",
    "from sklearn.preprocessing import StandardScaler\n",
    "from bofw import Bofw\n",
    "import sys\n",
    "from sklearn.metrics import roc_curve, auc\n",
    "\n",
    "\n",
    "print(\"Start time is \", datetime.datetime.now())\n",
    "\n",
    "DATA_DIR = \"data/processed\"\n",
    "N_COMPONENT = 2\n",
    "\n",
    "subjects = range(1, 2)\n",
    "\n",
    "X =  np.concatenate([np.load(\"{0}/{1}/subj{2}_train_data.npy\".format(DATA_DIR, N_COMPONENT, subject)) for subject in subjects])\n",
    "y =  np.concatenate([np.load(\"{0}/{1}/subj{2}_train_labels.npy\".format(DATA_DIR, N_COMPONENT, subject)) for subject in subjects])\n",
    "\n",
    "X_test =  np.concatenate([np.load(\"{0}/{1}/subj{2}_val_data.npy\".format(DATA_DIR, N_COMPONENT, subject)) for subject in subjects])\n",
    "y_test =  np.concatenate([np.load(\"{0}/{1}/subj{2}_val_labels.npy\".format(DATA_DIR, N_COMPONENT, subject)) for subject in subjects])\n",
    "\n",
    "y = y[:, 2]\n",
    "y_test = y_test[:,2]\n",
    "\n",
    "print(X.shape, y.shape)\n",
    "print(X_test.shape, y_test.shape)\n",
    "\n",
    "clf = svm.SVC(kernel='linear',C=1,probability=True)\n",
    "myBofw = Bofw()\n",
    "pca = PCA(n_components=0.9)\n",
    "scaler = StandardScaler()\n",
    "\n",
    "bofw_pipeline = Pipeline([('myown', myBofw), ('bofw_pca', pca), ('bofw_scaling', scaler), ('svm', clf)])\n",
    "\n",
    "estimator=bofw_pipeline.set_params(myown__num_clusters=2**8, svm__C=2**4).fit(X, y)\n",
    "\n",
    "score = estimator.score(X_test, y_test)\n",
    "predictions = estimator.predict(X_test)\n",
    "print(score)\n",
    "\n",
    "y_binary = label_binarize(y_test,classes=[1,2,3,4,5,6])\n",
    "predictions_binary=label_binarize(predictions,classes=[1,2,3,4,5,6])\n",
    "\n",
    "aucTotal = 0\n",
    "y_predict_prob=estimator.predict_proba(X_test)\n",
    "for i in range(0,6):\n",
    "    singleAuc=roc_auc_score(y_binary[:,i],y_predict_prob[:,i])\n",
    "    aucTotal+=singleAuc\n",
    "    print(\"for label\",i,\"auc=\",singleAuc)\n",
    "totalAUC=aucTotal/6\n",
    "print \"totalAUC\",totalAUC"
   ]
  },
  {
   "cell_type": "code",
   "execution_count": null,
   "metadata": {
    "collapsed": false
   },
   "outputs": [],
   "source": []
  },
  {
   "cell_type": "code",
   "execution_count": null,
   "metadata": {
    "collapsed": false
   },
   "outputs": [],
   "source": []
  },
  {
   "cell_type": "code",
   "execution_count": null,
   "metadata": {
    "collapsed": false
   },
   "outputs": [],
   "source": [
    "y_binary.shape"
   ]
  },
  {
   "cell_type": "code",
   "execution_count": null,
   "metadata": {
    "collapsed": false
   },
   "outputs": [],
   "source": [
    "#Compute ROC curve and ROC area for each class\n",
    "n_classes=y_binary.shape[1]\n",
    "fpr = dict()\n",
    "tpr = dict()\n",
    "roc_auc = dict()\n",
    "for i in range(n_classes):\n",
    "    fpr[i], tpr[i], _ = roc_curve(y_binary[:, i], y_predict_prob[:, i])\n",
    "    roc_auc[i] = auc(fpr[i], tpr[i])\n",
    "\n"
   ]
  },
  {
   "cell_type": "code",
   "execution_count": null,
   "metadata": {
    "collapsed": false
   },
   "outputs": [],
   "source": [
    "%matplotlib inline\n",
    "##############################################################################\n",
    "# Plot of a ROC curve for a specific class\n",
    "plt.figure()\n",
    "ax = plt.subplot(111)\n",
    "plt.plot(fpr[0], tpr[0], label='event 1 (area = %0.2f)' % roc_auc[0])\n",
    "plt.plot(fpr[1], tpr[1], label='event 2 (area = %0.2f)' % roc_auc[1])\n",
    "plt.plot(fpr[2], tpr[2], label='event 3 (area = %0.2f)' % roc_auc[2])\n",
    "plt.plot(fpr[3], tpr[3], label='event 4 (area = %0.2f)' % roc_auc[3])\n",
    "plt.plot(fpr[4], tpr[4], label='event 5 (area = %0.2f)' % roc_auc[4])\n",
    "plt.plot(fpr[5], tpr[5], label='event 6 (area = %0.2f)' % roc_auc[5])\n",
    "plt.plot([0, 1], [0, 1], 'k--')\n",
    "plt.xlim([0.0, 1.0])\n",
    "plt.ylim([0.0, 1.05])\n",
    "plt.xlabel('False Positive Rate')\n",
    "plt.ylabel('True Positive Rate')\n",
    "plt.title('Receiver operating characteristic')\n",
    "#ax.legend(loc='lower left', bbox_to_anchor=(1, 0.5))\n",
    "plt.legend(loc=\"lower right\")\n",
    "plt.show()"
   ]
  },
  {
   "cell_type": "code",
   "execution_count": null,
   "metadata": {
    "collapsed": false
   },
   "outputs": [],
   "source": [
    "print len(y_binary.ravel())\n",
    "print len(y_predict_prob.ravel())\n",
    "print 6120/2448"
   ]
  },
  {
   "cell_type": "code",
   "execution_count": null,
   "metadata": {
    "collapsed": false
   },
   "outputs": [],
   "source": [
    "from scipy import interp\n",
    "\n",
    "# Compute micro-average ROC curve and ROC area\n",
    "fpr[\"micro\"], tpr[\"micro\"], _ = roc_curve(y_binary.ravel(), y_predict_prob.ravel())\n",
    "roc_auc[\"micro\"] = auc(fpr[\"micro\"], tpr[\"micro\"])\n",
    "\n",
    "##############################################################################\n",
    "# Plot ROC curves for the multiclass problem\n",
    "\n",
    "# Compute macro-average ROC curve and ROC area\n",
    "\n",
    "# First aggregate all false positive rates\n",
    "all_fpr = np.unique(np.concatenate([fpr[i] for i in range(n_classes)]))\n",
    "\n",
    "# Then interpolate all ROC curves at this points\n",
    "mean_tpr = np.zeros_like(all_fpr)\n",
    "for i in range(n_classes):\n",
    "    mean_tpr += interp(all_fpr, fpr[i], tpr[i])\n",
    "\n",
    "# Finally average it and compute AUC\n",
    "mean_tpr /= n_classes\n",
    "\n",
    "fpr[\"macro\"] = all_fpr\n",
    "tpr[\"macro\"] = mean_tpr\n",
    "roc_auc[\"macro\"] = auc(fpr[\"macro\"], tpr[\"macro\"])\n",
    "#print \"fpr\",fpr[\"macro\"]\n",
    "#print \"tpr\",tpr[\"macro\"]\n",
    "#\n",
    "#print roc_auc[\"macro\"]\n",
    "\n",
    "# Plot all ROC curves\n",
    "plt.figure()\n",
    "plt.plot(fpr[\"micro\"], tpr[\"micro\"],\n",
    "         label='micro-average ROC curve (area = {0:0.2f})'\n",
    "               ''.format(roc_auc[\"micro\"]),\n",
    "         linewidth=2)\n",
    "\n",
    "plt.plot(fpr[\"macro\"], tpr[\"macro\"],\n",
    "         label='macro-average ROC curve (area = {0:0.2f})'\n",
    "               ''.format(roc_auc[\"macro\"]),\n",
    "         linewidth=2)\n",
    "\n",
    "#for i in range(n_classes):\n",
    "#    plt.plot(fpr[i], tpr[i], label='ROC curve of class {0} (area = {1:0.2f})'\n",
    "#                                   ''.format(i, roc_auc[i]))\n",
    "\n",
    "plt.plot([0, 1], [0, 1], 'k--')\n",
    "plt.xlim([0.0, 1.0])\n",
    "plt.ylim([0.0, 1.05])\n",
    "plt.xlabel('False Positive Rate')\n",
    "plt.ylabel('True Positive Rate')\n",
    "#ax.legend(loc='center left', bbox_to_anchor=(1, 0.5))\n",
    "plt.title('Some extension of Receiver operating characteristic to multi-class')\n",
    "plt.legend(loc=\"lower right\")\n",
    "\n",
    "plt.show()\n",
    "\n"
   ]
  },
  {
   "cell_type": "code",
   "execution_count": null,
   "metadata": {
    "collapsed": false
   },
   "outputs": [],
   "source": [
    "from sklearn.metrics import confusion_matrix\n",
    "\n",
    "confusion_matrix(y_test,predictions)\n",
    "#prediction in the column\n",
    "#actual in the row"
   ]
  },
  {
   "cell_type": "code",
   "execution_count": null,
   "metadata": {
    "collapsed": false
   },
   "outputs": [],
   "source": [
    "y_binary[:,0]"
   ]
  },
  {
   "cell_type": "code",
   "execution_count": null,
   "metadata": {
    "collapsed": false
   },
   "outputs": [],
   "source": [
    "predictions_binary[:,0]"
   ]
  },
  {
   "cell_type": "code",
   "execution_count": null,
   "metadata": {
    "collapsed": false
   },
   "outputs": [],
   "source": [
    "confusion_matrix(y_binary[:,0],predictions_binary[:,0])"
   ]
  },
  {
   "cell_type": "code",
   "execution_count": null,
   "metadata": {
    "collapsed": false
   },
   "outputs": [],
   "source": [
    "confusion_matrix(y_binary[:,1],predictions_binary[:,1])"
   ]
  },
  {
   "cell_type": "code",
   "execution_count": null,
   "metadata": {
    "collapsed": false
   },
   "outputs": [],
   "source": [
    "confusion_matrix(y_binary[:,2],predictions_binary[:,2])"
   ]
  },
  {
   "cell_type": "code",
   "execution_count": null,
   "metadata": {
    "collapsed": false
   },
   "outputs": [],
   "source": [
    "confusion_matrix(y_binary[:,3],predictions_binary[:,3])"
   ]
  },
  {
   "cell_type": "code",
   "execution_count": null,
   "metadata": {
    "collapsed": false
   },
   "outputs": [],
   "source": [
    "confusion_matrix(y_binary[:,4],predictions_binary[:,4])"
   ]
  },
  {
   "cell_type": "code",
   "execution_count": null,
   "metadata": {
    "collapsed": false
   },
   "outputs": [],
   "source": [
    "confusion_matrix(y_binary[:,5],predictions_binary[:,5])"
   ]
  },
  {
   "cell_type": "code",
   "execution_count": null,
   "metadata": {
    "collapsed": false
   },
   "outputs": [],
   "source": [
    "count0=0\n",
    "count1=0\n",
    "for binNum in predictions_binary[:,0]:\n",
    "    if binNum==0:\n",
    "        count0+=1\n",
    "    else:\n",
    "        count1+=1\n",
    "print \"count0\",count0\n",
    "print \"count1\",count1\n",
    "print len(predictions_binary[:,0])"
   ]
  },
  {
   "cell_type": "code",
   "execution_count": null,
   "metadata": {
    "collapsed": false
   },
   "outputs": [],
   "source": [
    "count0=0\n",
    "count1=0\n",
    "for binNum in y_binary[:,0]:\n",
    "    if binNum==0:\n",
    "        count0+=1\n",
    "    else:\n",
    "        count1+=1\n",
    "print \"count0\",count0\n",
    "print \"count1\",count1\n",
    "print len(predictions_binary[:,0])"
   ]
  },
  {
   "cell_type": "code",
   "execution_count": null,
   "metadata": {
    "collapsed": true
   },
   "outputs": [],
   "source": []
  }
 ],
 "metadata": {
  "kernelspec": {
   "display_name": "Python 2",
   "language": "python",
   "name": "python2"
  },
  "language_info": {
   "codemirror_mode": {
    "name": "ipython",
    "version": 2
   },
   "file_extension": ".py",
   "mimetype": "text/x-python",
   "name": "python",
   "nbconvert_exporter": "python",
   "pygments_lexer": "ipython2",
   "version": "2.7.10"
  }
 },
 "nbformat": 4,
 "nbformat_minor": 0
}
