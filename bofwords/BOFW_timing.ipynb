{
 "cells": [
  {
   "cell_type": "code",
   "execution_count": 5,
   "metadata": {
    "collapsed": true
   },
   "outputs": [],
   "source": [
    "import numpy as np\n",
    "import numpy.linalg as LA\n",
    "from sklearn.cluster import MiniBatchKMeans\n",
    "from sklearn.externals import six\n",
    "from sklearn.metrics.pairwise import pairwise_distances\n",
    "from sklearn.preprocessing import StandardScaler\n",
    "from sklearn.metrics.pairwise import pairwise_distances\n",
    "import matplotlib.pyplot as plt\n",
    "from sklearn.datasets import make_blobs\n",
    "import timeit\n",
    "from memory_profiler import memory_usage\n",
    "import math\n",
    "\n",
    "class Bofw:\n",
    "    def __init__(self, num_clusters = 8):\n",
    "        self.num_clusters = num_clusters\n",
    "        return\n",
    "\n",
    "    def my_bofw(self, loc_desc, centroids, clusters):\n",
    "        B = np.zeros(centroids.shape[0])\n",
    "        local_descriptors = self.scaler.transform(loc_desc)\n",
    "        for iter, center in enumerate(centroids):\n",
    "            points_belonging_to_cluster = local_descriptors[clusters == iter]\n",
    "            B[iter] = points_belonging_to_cluster.shape[0]\n",
    "        return B\n",
    "\n",
    "    def get_params(self, deep=True):\n",
    "        return dict(num_clusters = self.num_clusters)\n",
    "\n",
    "    def set_params(self, **params):\n",
    "        if not params:\n",
    "            return self\n",
    "        for key, value in six.iteritems(params):\n",
    "            split = key.split('__', 1)\n",
    "            if len(split) > 1:\n",
    "                print(\"length is greter than one \", split, value)\n",
    "            else:\n",
    "                print(\"length is one \", split, value)\n",
    "                setattr(self, key, value)\n",
    "\n",
    "    def fit(self, X, y=None):\n",
    "        tmp = X.swapaxes(1,2)\n",
    "        tmp = tmp.reshape(tmp.shape[0]*tmp.shape[1], tmp.shape[2])\n",
    "\n",
    "        self.scaler = StandardScaler()\n",
    "        self.scaler.fit(tmp)\n",
    "        tmp = self.scaler.transform(tmp)\n",
    "        kmeans = MiniBatchKMeans(init='k-means++', n_clusters=self.num_clusters, batch_size=1000)\n",
    "        kmeans.fit(tmp)\n",
    "        self.centers = kmeans.cluster_centers_\n",
    "        self.clusters = kmeans.labels_\n",
    "        print(\"shape of centers is \",self.centers.shape)\n",
    "        return self\n",
    "\n",
    "    def transform(self, X):\n",
    "        print(\"in transform method\", X.shape, self.num_clusters)\n",
    "        X = X.swapaxes(1,2)\n",
    "        tot_range = X.shape[0]\n",
    "        print(\"X.shape is \", X.shape)\n",
    "        out = np.empty((tot_range, self.centers.shape[0]))\n",
    "        print(\"starting for loop\")\n",
    "        print tot_range\n",
    "        start_ind = 0\n",
    "        for i in range(tot_range):\n",
    "            out[i] = self.my_bofw(X[i], self.centers, self.clusters[start_ind:start_ind + 500])\n",
    "            start_ind = start_ind + 500\n",
    "        out = np.insert(out, 0, 1, axis=1)\n",
    "        return out"
   ]
  },
  {
   "cell_type": "code",
   "execution_count": 6,
   "metadata": {
    "collapsed": true
   },
   "outputs": [],
   "source": [
    "def profile_memory_and_time(function, *args, **kwargs):\n",
    "    start_time = timeit.default_timer()\n",
    "    memory, return_val = memory_usage((function, (args), kwargs), max_usage=True, retval=True)\n",
    "    elapsed = timeit.default_timer() - start_time\n",
    "    return memory[0], elapsed,return_val"
   ]
  },
  {
   "cell_type": "code",
   "execution_count": 7,
   "metadata": {
    "collapsed": false
   },
   "outputs": [
    {
     "name": "stdout",
     "output_type": "stream",
     "text": [
      "(4608, 32, 500)\n"
     ]
    }
   ],
   "source": [
    "inputSizesToGenerate =[[2**8,2**2],[2**9,2**2],[2**10,2**2],[2**11,2**2]] \n",
    "scaler = StandardScaler()\n",
    "times=[]\n",
    "memoris=[]\n",
    "numSamples=[]\n",
    "num_dimension=32\n",
    "\n",
    "N_COMPONENT = 2\n",
    "DATA_DIR = \"../data/processed\"\n",
    "subjects = range(1, 5)\n",
    "\n",
    "X =  np.concatenate([np.load(\"{0}/{1}/subj{2}_train_data.npy\".format(DATA_DIR, N_COMPONENT, subject)) for subject in subjects])\n",
    "print X.shape"
   ]
  },
  {
   "cell_type": "code",
   "execution_count": 10,
   "metadata": {
    "collapsed": false
   },
   "outputs": [
    {
     "name": "stdout",
     "output_type": "stream",
     "text": [
      "Running for 256 samples of dimension 32\n",
      "('shape of centers is ', (4, 32))\n",
      "Running for 512 samples of dimension 32\n",
      "('shape of centers is ', (4, 32))\n",
      "Running for 1024 samples of dimension 32\n",
      "('shape of centers is ', (4, 32))\n",
      "Running for 2048 samples of dimension 32\n",
      "('shape of centers is ', (4, 32))\n",
      "Script ended. Results:\n",
      "numSamples:  [2.408239965311849, 2.7092699609758304, 3.0102999566398116, 3.311329952303793, 2.408239965311849, 2.7092699609758304, 3.0102999566398116, 3.311329952303793]\n",
      "bofwMemory:  [652.87890625, 685.76953125, 686.609375, 686.609375, 701.08984375, 701.0, 700.91015625, 700.91015625]\n",
      "bofwTimes:  [0.494920015335083, 0.4036719799041748, 0.42351484298706055, 0.5894830226898193, 0.4510960578918457, 0.44356608390808105, 0.43247199058532715, 0.32931995391845703]\n"
     ]
    }
   ],
   "source": [
    "\n",
    "for num_samples, num_cluster in inputSizesToGenerate:\n",
    "    X=X[:num_samples]\n",
    "    myBofw = Bofw(num_cluster)\n",
    "    print \"Running for {0} samples of dimension {1}\".format(num_samples, num_dimension)\n",
    "    memory, time, rval = profile_memory_and_time(myBofw.fit,X)\n",
    "    times.append(time)\n",
    "    memoris.append(memory)\n",
    "    numSamples.append(math.log(num_samples,10))\n",
    "    \n",
    "plt.scatter(numSamples, memoris,color=\"red\")\n",
    "plt.title(\"MEMORY\")\n",
    "#plt.legend(bbox_to_anchor=(1.05, 1), loc=2, borderaxespad=0.)\n",
    "plt.savefig('memory.png')\n",
    "plt.clf()\n",
    "plt.scatter(numSamples, times,color=\"red\")\n",
    "plt.title(\"TIME\")\n",
    "plt.savefig('time.png')\n",
    "print \"Script ended. Results:\"\n",
    "print \"numSamples: \",numSamples\n",
    "print \"bofwMemory: \",memoris\n",
    "print \"bofwTimes: \",times    "
   ]
  },
  {
   "cell_type": "code",
   "execution_count": null,
   "metadata": {
    "collapsed": true
   },
   "outputs": [],
   "source": []
  }
 ],
 "metadata": {
  "kernelspec": {
   "display_name": "Python 2",
   "language": "python",
   "name": "python2"
  },
  "language_info": {
   "codemirror_mode": {
    "name": "ipython",
    "version": 2
   },
   "file_extension": ".py",
   "mimetype": "text/x-python",
   "name": "python",
   "nbconvert_exporter": "python",
   "pygments_lexer": "ipython2",
   "version": "2.7.10"
  }
 },
 "nbformat": 4,
 "nbformat_minor": 0
}
